{
  "nbformat": 4,
  "nbformat_minor": 0,
  "metadata": {
    "colab": {
      "provenance": [],
      "authorship_tag": "ABX9TyP8JWsjmgpEjx1G48kIS8LK"
    },
    "kernelspec": {
      "name": "python3",
      "display_name": "Python 3"
    },
    "language_info": {
      "name": "python"
    }
  },
  "cells": [
    {
      "cell_type": "markdown",
      "source": [
        "# ML Assignment "
      ],
      "metadata": {
        "id": "UzlLZB1wSizJ"
      }
    },
    {
      "cell_type": "code",
      "execution_count": 1,
      "metadata": {
        "colab": {
          "base_uri": "https://localhost:8080/",
          "height": 0
        },
        "id": "j88ravZtQIE1",
        "outputId": "19691b54-fe93-4db5-da75-8beaceb3dddf"
      },
      "outputs": [
        {
          "output_type": "stream",
          "name": "stdout",
          "text": [
            "Mounted at /content/gdrive\n"
          ]
        }
      ],
      "source": [
        "from google.colab import drive\n",
        "drive.mount('/content/gdrive')"
      ]
    },
    {
      "cell_type": "code",
      "source": [
        "cd '/content/gdrive/MyDrive/ml_data'"
      ],
      "metadata": {
        "colab": {
          "base_uri": "https://localhost:8080/",
          "height": 0
        },
        "id": "mxWDN5VXU49o",
        "outputId": "7114dd98-9de0-4ac7-a88a-99263d6b9454"
      },
      "execution_count": 2,
      "outputs": [
        {
          "output_type": "stream",
          "name": "stdout",
          "text": [
            "/content/gdrive/MyDrive/ml_data\n"
          ]
        }
      ]
    },
    {
      "cell_type": "markdown",
      "source": [
        "### Importing Data"
      ],
      "metadata": {
        "id": "U6-TTJxxaQLh"
      }
    },
    {
      "cell_type": "code",
      "source": [
        "import pandas as pd\n",
        "\n",
        "webkb_train = pd.read_csv('webkb-train-stemmed.txt', sep='\\t', names=['label', 'bow'])\n",
        "webkb_test = pd.read_csv('webkb-test-stemmed.txt', sep='\\t', names=['label', 'bow'])\n",
        "\n",
        "#display(webkb_train)\n",
        "#display(webkb_test)"
      ],
      "metadata": {
        "id": "zGhTHvnKVHi-"
      },
      "execution_count": 24,
      "outputs": []
    },
    {
      "cell_type": "markdown",
      "source": [
        "### Merging Data"
      ],
      "metadata": {
        "id": "VHntsx7CabIg"
      }
    },
    {
      "cell_type": "code",
      "source": [
        "frames = [webkb_train, webkb_test]\n",
        "webkb = pd.concat(frames)\n",
        "\n",
        "display(webkb)"
      ],
      "metadata": {
        "colab": {
          "base_uri": "https://localhost:8080/",
          "height": 2273
        },
        "id": "SdYXvoERaOw4",
        "outputId": "84080b8b-472d-47fd-c6a6-958067a06fcc"
      },
      "execution_count": 32,
      "outputs": [
        {
          "output_type": "display_data",
          "data": {
            "text/plain": [
              "        label                                                bow\n",
              "0     student  brian comput scienc depart univers wisconsin d...\n",
              "1     student  denni swanson web page mail pop uki offic hour...\n",
              "2     faculty  russel impagliazzo depart comput scienc engin ...\n",
              "3     student  dave phd student depart comput scienc univers ...\n",
              "4     project  center lifelong learn design univers colorado ...\n",
              "...       ...                                                ...\n",
              "1391  student  scott pictur background scott phd student coll...\n",
              "1392   course  advanc oper system fall marvin offic comput sc...\n",
              "1393  project  human robot hand group head kenneth salisburi ...\n",
              "1394   course  databas manag system design implement inform p...\n",
              "1395  student  lick home page gener info mail address lick gr...\n",
              "\n",
              "[4199 rows x 2 columns]"
            ],
            "text/html": [
              "\n",
              "  <div id=\"df-a3ae69a1-7aa8-4cea-a7dc-8e02444fd981\">\n",
              "    <div class=\"colab-df-container\">\n",
              "      <div>\n",
              "<style scoped>\n",
              "    .dataframe tbody tr th:only-of-type {\n",
              "        vertical-align: middle;\n",
              "    }\n",
              "\n",
              "    .dataframe tbody tr th {\n",
              "        vertical-align: top;\n",
              "    }\n",
              "\n",
              "    .dataframe thead th {\n",
              "        text-align: right;\n",
              "    }\n",
              "</style>\n",
              "<table border=\"1\" class=\"dataframe\">\n",
              "  <thead>\n",
              "    <tr style=\"text-align: right;\">\n",
              "      <th></th>\n",
              "      <th>label</th>\n",
              "      <th>bow</th>\n",
              "    </tr>\n",
              "  </thead>\n",
              "  <tbody>\n",
              "    <tr>\n",
              "      <th>0</th>\n",
              "      <td>student</td>\n",
              "      <td>brian comput scienc depart univers wisconsin d...</td>\n",
              "    </tr>\n",
              "    <tr>\n",
              "      <th>1</th>\n",
              "      <td>student</td>\n",
              "      <td>denni swanson web page mail pop uki offic hour...</td>\n",
              "    </tr>\n",
              "    <tr>\n",
              "      <th>2</th>\n",
              "      <td>faculty</td>\n",
              "      <td>russel impagliazzo depart comput scienc engin ...</td>\n",
              "    </tr>\n",
              "    <tr>\n",
              "      <th>3</th>\n",
              "      <td>student</td>\n",
              "      <td>dave phd student depart comput scienc univers ...</td>\n",
              "    </tr>\n",
              "    <tr>\n",
              "      <th>4</th>\n",
              "      <td>project</td>\n",
              "      <td>center lifelong learn design univers colorado ...</td>\n",
              "    </tr>\n",
              "    <tr>\n",
              "      <th>...</th>\n",
              "      <td>...</td>\n",
              "      <td>...</td>\n",
              "    </tr>\n",
              "    <tr>\n",
              "      <th>1391</th>\n",
              "      <td>student</td>\n",
              "      <td>scott pictur background scott phd student coll...</td>\n",
              "    </tr>\n",
              "    <tr>\n",
              "      <th>1392</th>\n",
              "      <td>course</td>\n",
              "      <td>advanc oper system fall marvin offic comput sc...</td>\n",
              "    </tr>\n",
              "    <tr>\n",
              "      <th>1393</th>\n",
              "      <td>project</td>\n",
              "      <td>human robot hand group head kenneth salisburi ...</td>\n",
              "    </tr>\n",
              "    <tr>\n",
              "      <th>1394</th>\n",
              "      <td>course</td>\n",
              "      <td>databas manag system design implement inform p...</td>\n",
              "    </tr>\n",
              "    <tr>\n",
              "      <th>1395</th>\n",
              "      <td>student</td>\n",
              "      <td>lick home page gener info mail address lick gr...</td>\n",
              "    </tr>\n",
              "  </tbody>\n",
              "</table>\n",
              "<p>4199 rows × 2 columns</p>\n",
              "</div>\n",
              "      <button class=\"colab-df-convert\" onclick=\"convertToInteractive('df-a3ae69a1-7aa8-4cea-a7dc-8e02444fd981')\"\n",
              "              title=\"Convert this dataframe to an interactive table.\"\n",
              "              style=\"display:none;\">\n",
              "        \n",
              "  <svg xmlns=\"http://www.w3.org/2000/svg\" height=\"24px\"viewBox=\"0 0 24 24\"\n",
              "       width=\"24px\">\n",
              "    <path d=\"M0 0h24v24H0V0z\" fill=\"none\"/>\n",
              "    <path d=\"M18.56 5.44l.94 2.06.94-2.06 2.06-.94-2.06-.94-.94-2.06-.94 2.06-2.06.94zm-11 1L8.5 8.5l.94-2.06 2.06-.94-2.06-.94L8.5 2.5l-.94 2.06-2.06.94zm10 10l.94 2.06.94-2.06 2.06-.94-2.06-.94-.94-2.06-.94 2.06-2.06.94z\"/><path d=\"M17.41 7.96l-1.37-1.37c-.4-.4-.92-.59-1.43-.59-.52 0-1.04.2-1.43.59L10.3 9.45l-7.72 7.72c-.78.78-.78 2.05 0 2.83L4 21.41c.39.39.9.59 1.41.59.51 0 1.02-.2 1.41-.59l7.78-7.78 2.81-2.81c.8-.78.8-2.07 0-2.86zM5.41 20L4 18.59l7.72-7.72 1.47 1.35L5.41 20z\"/>\n",
              "  </svg>\n",
              "      </button>\n",
              "      \n",
              "  <style>\n",
              "    .colab-df-container {\n",
              "      display:flex;\n",
              "      flex-wrap:wrap;\n",
              "      gap: 12px;\n",
              "    }\n",
              "\n",
              "    .colab-df-convert {\n",
              "      background-color: #E8F0FE;\n",
              "      border: none;\n",
              "      border-radius: 50%;\n",
              "      cursor: pointer;\n",
              "      display: none;\n",
              "      fill: #1967D2;\n",
              "      height: 32px;\n",
              "      padding: 0 0 0 0;\n",
              "      width: 32px;\n",
              "    }\n",
              "\n",
              "    .colab-df-convert:hover {\n",
              "      background-color: #E2EBFA;\n",
              "      box-shadow: 0px 1px 2px rgba(60, 64, 67, 0.3), 0px 1px 3px 1px rgba(60, 64, 67, 0.15);\n",
              "      fill: #174EA6;\n",
              "    }\n",
              "\n",
              "    [theme=dark] .colab-df-convert {\n",
              "      background-color: #3B4455;\n",
              "      fill: #D2E3FC;\n",
              "    }\n",
              "\n",
              "    [theme=dark] .colab-df-convert:hover {\n",
              "      background-color: #434B5C;\n",
              "      box-shadow: 0px 1px 3px 1px rgba(0, 0, 0, 0.15);\n",
              "      filter: drop-shadow(0px 1px 2px rgba(0, 0, 0, 0.3));\n",
              "      fill: #FFFFFF;\n",
              "    }\n",
              "  </style>\n",
              "\n",
              "      <script>\n",
              "        const buttonEl =\n",
              "          document.querySelector('#df-a3ae69a1-7aa8-4cea-a7dc-8e02444fd981 button.colab-df-convert');\n",
              "        buttonEl.style.display =\n",
              "          google.colab.kernel.accessAllowed ? 'block' : 'none';\n",
              "\n",
              "        async function convertToInteractive(key) {\n",
              "          const element = document.querySelector('#df-a3ae69a1-7aa8-4cea-a7dc-8e02444fd981');\n",
              "          const dataTable =\n",
              "            await google.colab.kernel.invokeFunction('convertToInteractive',\n",
              "                                                     [key], {});\n",
              "          if (!dataTable) return;\n",
              "\n",
              "          const docLinkHtml = 'Like what you see? Visit the ' +\n",
              "            '<a target=\"_blank\" href=https://colab.research.google.com/notebooks/data_table.ipynb>data table notebook</a>'\n",
              "            + ' to learn more about interactive tables.';\n",
              "          element.innerHTML = '';\n",
              "          dataTable['output_type'] = 'display_data';\n",
              "          await google.colab.output.renderOutput(dataTable, element);\n",
              "          const docLink = document.createElement('div');\n",
              "          docLink.innerHTML = docLinkHtml;\n",
              "          element.appendChild(docLink);\n",
              "        }\n",
              "      </script>\n",
              "    </div>\n",
              "  </div>\n",
              "  "
            ]
          },
          "metadata": {}
        }
      ]
    },
    {
      "cell_type": "markdown",
      "source": [
        "### Representing in Counts Form"
      ],
      "metadata": {
        "id": "IIrBlla-ccIo"
      }
    },
    {
      "cell_type": "code",
      "source": [
        "from sklearn.feature_extraction.text import CountVectorizer\n",
        "\n",
        "cv = CountVectorizer()\n",
        "\n",
        "bow_counts = cv.fit_transform(webkb.bow.values.astype(str))\n",
        "\n",
        "print(bow_counts.shape)"
      ],
      "metadata": {
        "colab": {
          "base_uri": "https://localhost:8080/",
          "height": 0
        },
        "id": "QDyCMfuNcasp",
        "outputId": "c4d1d475-d059-4301-b77c-87b3f405d938"
      },
      "execution_count": 44,
      "outputs": [
        {
          "output_type": "stream",
          "name": "stdout",
          "text": [
            "(4199, 7771)\n"
          ]
        }
      ]
    },
    {
      "cell_type": "markdown",
      "source": [
        "\n",
        "### Finding TF-IDF "
      ],
      "metadata": {
        "id": "jTFoV8ggbZcH"
      }
    },
    {
      "cell_type": "code",
      "source": [
        "from sklearn.feature_extraction.text import TfidfTransformer\n",
        "\n",
        "tt = TfidfTransformer()\n",
        "bow_tfidf = tt.fit_transform(bow_counts)\n",
        "\n",
        "print(bow_tfidf)"
      ],
      "metadata": {
        "colab": {
          "base_uri": "https://localhost:8080/",
          "height": 0
        },
        "id": "ikfDsTyHmpGM",
        "outputId": "a9b2129f-53ee-435f-e980-936affbcf7c8"
      },
      "execution_count": 47,
      "outputs": [
        {
          "output_type": "stream",
          "name": "stdout",
          "text": [
            "  (0, 7687)\t0.06621415443604788\n",
            "  (0, 7662)\t0.027992190085127096\n",
            "  (0, 7659)\t0.06387912082713444\n",
            "  (0, 7647)\t0.05443117026804293\n",
            "  (0, 7632)\t0.034790879104933115\n",
            "  (0, 7631)\t0.0334044296071481\n",
            "  (0, 7616)\t0.06013606329887504\n",
            "  (0, 7554)\t0.035465737540711806\n",
            "  (0, 7553)\t0.037588422378730016\n",
            "  (0, 7544)\t0.044947592634663254\n",
            "  (0, 7523)\t0.055656719252572116\n",
            "  (0, 7487)\t0.05708182043267829\n",
            "  (0, 7486)\t0.0523985408705663\n",
            "  (0, 7479)\t0.11131343850514423\n",
            "  (0, 7335)\t0.02972280179536611\n",
            "  (0, 7281)\t0.025793796679512284\n",
            "  (0, 7277)\t0.06486243303094841\n",
            "  (0, 7276)\t0.03904314246013432\n",
            "  (0, 7142)\t0.049362102745393543\n",
            "  (0, 7108)\t0.041115995927876375\n",
            "  (0, 7096)\t0.04009246038295486\n",
            "  (0, 6968)\t0.06708834981284727\n",
            "  (0, 6879)\t0.024812371861587943\n",
            "  (0, 6876)\t0.08483167790752823\n",
            "  (0, 6819)\t0.038047027899627085\n",
            "  :\t:\n",
            "  (4198, 6658)\t0.0741144065057954\n",
            "  (4198, 6107)\t0.05261944488533123\n",
            "  (4198, 6089)\t0.17317638523476284\n",
            "  (4198, 5907)\t0.23939186834455267\n",
            "  (4198, 5822)\t0.0633141060633435\n",
            "  (4198, 5382)\t0.37617929648635073\n",
            "  (4198, 5207)\t0.0891440223450244\n",
            "  (4198, 5026)\t0.12390817501115592\n",
            "  (4198, 4899)\t0.08175198367966945\n",
            "  (4198, 4176)\t0.08955911244942248\n",
            "  (4198, 4021)\t0.6093390979559451\n",
            "  (4198, 3867)\t0.1116101028359545\n",
            "  (4198, 3410)\t0.13821378841217494\n",
            "  (4198, 3168)\t0.14267296331998325\n",
            "  (4198, 2887)\t0.09382222153971069\n",
            "  (4198, 2776)\t0.10033226197224374\n",
            "  (4198, 2209)\t0.0891440223450244\n",
            "  (4198, 1837)\t0.06523672921998626\n",
            "  (4198, 1391)\t0.04659765195596609\n",
            "  (4198, 961)\t0.12999280394636775\n",
            "  (4198, 819)\t0.20872873362919278\n",
            "  (4198, 540)\t0.12564968689547648\n",
            "  (4198, 441)\t0.11142496941895286\n",
            "  (4198, 92)\t0.10673742364586374\n",
            "  (4198, 49)\t0.19732415027750272\n"
          ]
        }
      ]
    },
    {
      "cell_type": "markdown",
      "source": [
        "### Test Train Split"
      ],
      "metadata": {
        "id": "2e2oW3wFqkvL"
      }
    },
    {
      "cell_type": "code",
      "source": [
        "from sklearn.model_selection import train_test_split\n",
        "\n",
        "X_train, X_test, y_train, y_test = train_test_split(bow_tfidf, webkb.label, test_size=0.30, shuffle=False, random_state=42)"
      ],
      "metadata": {
        "id": "8LfqZijRn_1s"
      },
      "execution_count": 61,
      "outputs": []
    },
    {
      "cell_type": "markdown",
      "source": [
        "### Random Forest"
      ],
      "metadata": {
        "id": "WfJJ24e_qsOr"
      }
    },
    {
      "cell_type": "code",
      "source": [
        "from sklearn.ensemble import RandomForestClassifier\n",
        "\n",
        "rfc = RandomForestClassifier(random_state=42)\n",
        "\n",
        "rfc.fit(X_train, y_train)\n",
        "\n",
        "y_predicted = rfc.predict(X_test)\n",
        "\n",
        "#print(y_test)\n",
        "#print(y_predicted)"
      ],
      "metadata": {
        "id": "6hVWY2Btq2ar"
      },
      "execution_count": 64,
      "outputs": []
    },
    {
      "cell_type": "markdown",
      "source": [
        "### Accuracy and Confusion Matrix"
      ],
      "metadata": {
        "id": "ZtmQox6gtStE"
      }
    },
    {
      "cell_type": "code",
      "source": [
        "from sklearn import metrics\n",
        "\n",
        "print(\"\\nTest Accuracy: \", metrics.accuracy_score(y_test, y_predicted))\n",
        "print(\"\\nConfusion Matrix \\n\\n\", metrics.confusion_matrix(y_test, y_predicted))"
      ],
      "metadata": {
        "colab": {
          "base_uri": "https://localhost:8080/",
          "height": 0
        },
        "id": "5RBX3xRAtQis",
        "outputId": "be7fef6a-ee90-43cd-825e-53db9535995b"
      },
      "execution_count": 65,
      "outputs": [
        {
          "output_type": "stream",
          "name": "stdout",
          "text": [
            "\n",
            "Test Accuracy:  0.8785714285714286\n",
            "\n",
            "Confusion Matrix \n",
            "\n",
            " [[267   0   1  13]\n",
            " [  6 291   3  39]\n",
            " [  4  19  92  36]\n",
            " [  5  23   4 457]]\n"
          ]
        }
      ]
    },
    {
      "cell_type": "markdown",
      "source": [
        "### Naive Bayes"
      ],
      "metadata": {
        "id": "3JlBz9OGuO0r"
      }
    },
    {
      "cell_type": "code",
      "source": [
        "from sklearn.naive_bayes import MultinomialNB\n",
        "\n",
        "mnb = MultinomialNB()\n",
        "\n",
        "mnb.fit(X_train, y_train)\n",
        "\n",
        "y_predicted = mnb.predict(X_test)"
      ],
      "metadata": {
        "id": "50zI-hI0uNAl"
      },
      "execution_count": 67,
      "outputs": []
    },
    {
      "cell_type": "markdown",
      "source": [
        "### Accuracy and Confusion Matrix"
      ],
      "metadata": {
        "id": "2BnMbujZv1E1"
      }
    },
    {
      "cell_type": "code",
      "source": [
        "from sklearn import metrics\n",
        "\n",
        "print(\"\\nTest Accuracy: \", metrics.accuracy_score(y_test, y_predicted))\n",
        "print(\"\\nConfusion Matrix \\n\\n\", metrics.confusion_matrix(y_test, y_predicted))"
      ],
      "metadata": {
        "colab": {
          "base_uri": "https://localhost:8080/",
          "height": 0
        },
        "id": "iBMyHiBqv9V0",
        "outputId": "c217c84d-4f84-47b3-c4cb-a7041fb7f74a"
      },
      "execution_count": 68,
      "outputs": [
        {
          "output_type": "stream",
          "name": "stdout",
          "text": [
            "\n",
            "Test Accuracy:  0.7753968253968254\n",
            "\n",
            "Confusion Matrix \n",
            "\n",
            " [[254  10   0  17]\n",
            " [  5 278   0  56]\n",
            " [  7 100   1  43]\n",
            " [  7  38   0 444]]\n"
          ]
        }
      ]
    }
  ]
}